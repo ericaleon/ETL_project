{
 "cells": [
  {
   "cell_type": "code",
   "execution_count": 15,
   "metadata": {},
   "outputs": [],
   "source": [
    "# Import dependencies\n",
    "import pandas as pd"
   ]
  },
  {
   "cell_type": "code",
   "execution_count": 52,
   "metadata": {},
   "outputs": [],
   "source": [
    "# Read in files\n",
    "file1 = \"Resources/AgrPesticideUse_2014-2015/2015.csv\"\n",
    "file2 = \"Resources/AgrPesticideUse_2014-2015/dictionary.csv\"\n",
    "\n",
    "pests = pd.read_csv(file1)\n",
    "state_codes = pd.read_csv(file2)"
   ]
  },
  {
   "cell_type": "code",
   "execution_count": 53,
   "metadata": {},
   "outputs": [
    {
     "data": {
      "text/html": [
       "<div>\n",
       "<style scoped>\n",
       "    .dataframe tbody tr th:only-of-type {\n",
       "        vertical-align: middle;\n",
       "    }\n",
       "\n",
       "    .dataframe tbody tr th {\n",
       "        vertical-align: top;\n",
       "    }\n",
       "\n",
       "    .dataframe thead th {\n",
       "        text-align: right;\n",
       "    }\n",
       "</style>\n",
       "<table border=\"1\" class=\"dataframe\">\n",
       "  <thead>\n",
       "    <tr style=\"text-align: right;\">\n",
       "      <th></th>\n",
       "      <th>STATE_CODE</th>\n",
       "      <th>STATE</th>\n",
       "      <th>COMPOUND</th>\n",
       "      <th>LOW_ESTIMATE</th>\n",
       "      <th>HIGH_ESTIMATE</th>\n",
       "    </tr>\n",
       "  </thead>\n",
       "  <tbody>\n",
       "    <tr>\n",
       "      <th>0</th>\n",
       "      <td>1</td>\n",
       "      <td>AL</td>\n",
       "      <td>2,4-D</td>\n",
       "      <td>3243.5</td>\n",
       "      <td>3363.2</td>\n",
       "    </tr>\n",
       "    <tr>\n",
       "      <th>1</th>\n",
       "      <td>1</td>\n",
       "      <td>AL</td>\n",
       "      <td>2,4-D</td>\n",
       "      <td>2178.0</td>\n",
       "      <td>3435.9</td>\n",
       "    </tr>\n",
       "    <tr>\n",
       "      <th>2</th>\n",
       "      <td>1</td>\n",
       "      <td>AL</td>\n",
       "      <td>2,4-D</td>\n",
       "      <td>5650.9</td>\n",
       "      <td>5825.6</td>\n",
       "    </tr>\n",
       "    <tr>\n",
       "      <th>3</th>\n",
       "      <td>1</td>\n",
       "      <td>AL</td>\n",
       "      <td>2,4-D</td>\n",
       "      <td>949.7</td>\n",
       "      <td>957.6</td>\n",
       "    </tr>\n",
       "    <tr>\n",
       "      <th>4</th>\n",
       "      <td>1</td>\n",
       "      <td>AL</td>\n",
       "      <td>2,4-D</td>\n",
       "      <td>9507.1</td>\n",
       "      <td>9591.2</td>\n",
       "    </tr>\n",
       "  </tbody>\n",
       "</table>\n",
       "</div>"
      ],
      "text/plain": [
       "   STATE_CODE STATE COMPOUND  LOW_ESTIMATE  HIGH_ESTIMATE\n",
       "0           1    AL    2,4-D        3243.5         3363.2\n",
       "1           1    AL    2,4-D        2178.0         3435.9\n",
       "2           1    AL    2,4-D        5650.9         5825.6\n",
       "3           1    AL    2,4-D         949.7          957.6\n",
       "4           1    AL    2,4-D        9507.1         9591.2"
      ]
     },
     "execution_count": 53,
     "metadata": {},
     "output_type": "execute_result"
    }
   ],
   "source": [
    "# Clean up dataframes\n",
    "pests = pests[[\"COMPOUND\",\"STATE_CODE\",\"LOW_ESTIMATE\",\"HIGH_ESTIMATE\"]]\n",
    "states = state_codes[[\"STATE_CODE\",\"STATE\"]]\n",
    "states = states.drop_duplicates(subset='STATE', keep=\"first\").reset_index(drop=True)\n",
    "\n",
    "# Merge dataframes\n",
    "pesticides = pd.merge(states, pests, on=\"STATE_CODE\")\n",
    "pesticides.head()"
   ]
  },
  {
   "cell_type": "code",
   "execution_count": null,
   "metadata": {},
   "outputs": [],
   "source": [
    "# Remove non-applicable compounds (leaving only neonic pesticides, which have been linked to CCD)\n",
    "# Neonicotinoid (Neonic) Pesticides: Acetamiprid, Clothianidin, Imidacloprid, Nitenpyram, Nithiazine, Thiacloprid, Thiamethoxam\n"
   ]
  },
  {
   "cell_type": "code",
   "execution_count": null,
   "metadata": {},
   "outputs": [],
   "source": [
    "# Group by state and compound\n",
    "pesticides = pesticides[[\"STATE\",\"COMPOUND\",\"LOW_ESTIMATE\",\"HIGH_ESTIMATE\"]].\\\n",
    "    groupby([\"STATE\",\"COMPOUND\"]).\\\n",
    "    mean()\n",
    "pesticides.head(20)"
   ]
  }
 ],
 "metadata": {
  "kernelspec": {
   "display_name": "Python 3",
   "language": "python",
   "name": "python3"
  },
  "language_info": {
   "codemirror_mode": {
    "name": "ipython",
    "version": 3
   },
   "file_extension": ".py",
   "mimetype": "text/x-python",
   "name": "python",
   "nbconvert_exporter": "python",
   "pygments_lexer": "ipython3",
   "version": "3.6.7"
  }
 },
 "nbformat": 4,
 "nbformat_minor": 2
}
