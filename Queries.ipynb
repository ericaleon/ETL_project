{
 "cells": [
  {
   "cell_type": "code",
   "execution_count": 1,
   "metadata": {},
   "outputs": [],
   "source": [
    "import pandas as pd\n",
    "from sqlalchemy.ext.automap import automap_base\n",
    "from sqlalchemy.orm import Session\n",
    "from sqlalchemy import create_engine, inspect, func"
   ]
  },
  {
   "cell_type": "code",
   "execution_count": 2,
   "metadata": {},
   "outputs": [],
   "source": [
    "engine = create_engine(\"sqlite:///Database/honeybees.sqlite\")"
   ]
  },
  {
   "cell_type": "code",
   "execution_count": 3,
   "metadata": {},
   "outputs": [
    {
     "data": {
      "text/plain": [
       "['bees_data', 'neo_pests']"
      ]
     },
     "execution_count": 3,
     "metadata": {},
     "output_type": "execute_result"
    }
   ],
   "source": [
    "inspector = inspect(engine)\n",
    "inspector.get_table_names()"
   ]
  },
  {
   "cell_type": "code",
   "execution_count": 4,
   "metadata": {},
   "outputs": [
    {
     "data": {
      "text/plain": [
       "[('AL', 7000.0, 8000.0, 1000.0, 4940.0, 4670.0, 1250.0, 47, 329),\n",
       " ('AZ', 35000.0, 36000.0, 1000.0, 30200.0, 28100.0, 40600.0, 49, 1274),\n",
       " ('AR', 13000.0, 23000.0, 10000.0, 15100.0, 14800.0, 5800.0, 72, 1728),\n",
       " ('CA', 1440000.0, 750000.0, -690000.0, 499000.0, 584000.0, 577000.0, 30, 8250),\n",
       " ('CO', 3500.0, 24000.0, 20500.0, 11000.0, 10400.0, 5040.0, 51, 1479),\n",
       " ('FL', 305000.0, 220000.0, -85000.0, 165000.0, 150000.0, 106000.0, 54, 11880),\n",
       " ('GA', 104000.0, 110000.0, 6000.0, 95900.0, 68500.0, 45900.0, 40, 2760),\n",
       " ('HI', 10500.0, 13000.0, 2500.0, 8400.0, 3890.0, 8220.0, 102, 1428),\n",
       " ('ID', 81000.0, 121000.0, 40000.0, 30100.0, 46200.0, 35500.0, 32, 2848),\n",
       " ('IL', 6000.0, 14000.0, 8000.0, 9600.0, 7590.0, 3020.0, 51, 408)]"
      ]
     },
     "execution_count": 4,
     "metadata": {},
     "output_type": "execute_result"
    }
   ],
   "source": [
    "engine.execute('Select * from bees_data limit 10').fetchall()"
   ]
  },
  {
   "cell_type": "code",
   "execution_count": 5,
   "metadata": {},
   "outputs": [],
   "source": [
    "Base = automap_base()\n",
    "Base.prepare(engine, reflect=True)"
   ]
  },
  {
   "cell_type": "code",
   "execution_count": 6,
   "metadata": {},
   "outputs": [],
   "source": [
    "Bees = Base.classes.bees_data\n",
    "Pests = Base.classes.neo_pests"
   ]
  },
  {
   "cell_type": "code",
   "execution_count": 7,
   "metadata": {},
   "outputs": [],
   "source": [
    "session = Session(engine)"
   ]
  },
  {
   "cell_type": "code",
   "execution_count": null,
   "metadata": {},
   "outputs": [],
   "source": []
  },
  {
   "cell_type": "code",
   "execution_count": 19,
   "metadata": {},
   "outputs": [],
   "source": [
    "results = session.query(Bees.state, Bees.end_colonies, Bees.colony_yield, Bees.production).\\\n",
    "    order_by(Bees.end_colonies.desc()).limit(10).all()"
   ]
  },
  {
   "cell_type": "code",
   "execution_count": 20,
   "metadata": {},
   "outputs": [],
   "source": [
    "top_states = []\n",
    "for state, end_colonies, colony_yield, production in results:\n",
    "    col_dict={}\n",
    "    col_dict[\"state\"] = state\n",
    "    col_dict[\"end_colonies\"] = int(end_colonies)\n",
    "    col_dict[\"colony_yield\"] = int(colony_yield)\n",
    "    col_dict[\"production\"] = int(production)\n",
    "    top_states.append(col_dict)"
   ]
  },
  {
   "cell_type": "code",
   "execution_count": 21,
   "metadata": {},
   "outputs": [
    {
     "data": {
      "text/plain": [
       "[{'state': 'CA',\n",
       "  'end_colonies': 750000,\n",
       "  'colony_yield': 30,\n",
       "  'production': 8250},\n",
       " {'state': 'ND',\n",
       "  'end_colonies': 230000,\n",
       "  'colony_yield': 74,\n",
       "  'production': 36260},\n",
       " {'state': 'FL',\n",
       "  'end_colonies': 220000,\n",
       "  'colony_yield': 54,\n",
       "  'production': 11880},\n",
       " {'state': 'SD',\n",
       "  'end_colonies': 194000,\n",
       "  'colony_yield': 66,\n",
       "  'production': 19140},\n",
       " {'state': 'TX',\n",
       "  'end_colonies': 125000,\n",
       "  'colony_yield': 66,\n",
       "  'production': 8316},\n",
       " {'state': 'ID',\n",
       "  'end_colonies': 121000,\n",
       "  'colony_yield': 32,\n",
       "  'production': 2848},\n",
       " {'state': 'MT',\n",
       "  'end_colonies': 116000,\n",
       "  'colony_yield': 83,\n",
       "  'production': 12118},\n",
       " {'state': 'GA',\n",
       "  'end_colonies': 110000,\n",
       "  'colony_yield': 40,\n",
       "  'production': 2760},\n",
       " {'state': 'MN',\n",
       "  'end_colonies': 104000,\n",
       "  'colony_yield': 68,\n",
       "  'production': 8296},\n",
       " {'state': 'OR',\n",
       "  'end_colonies': 100000,\n",
       "  'colony_yield': 38,\n",
       "  'production': 2698}]"
      ]
     },
     "execution_count": 21,
     "metadata": {},
     "output_type": "execute_result"
    }
   ],
   "source": [
    "top_states"
   ]
  },
  {
   "cell_type": "code",
   "execution_count": 28,
   "metadata": {},
   "outputs": [
    {
     "data": {
      "text/plain": [
       "[('AL', 1000.0, Decimal('0E-10'), 'DE'),\n",
       " ('AL', 1000.0, Decimal('0E-10'), 'DE'),\n",
       " ('AZ', 1000.0, Decimal('0E-10'), 'DE'),\n",
       " ('AZ', 1000.0, Decimal('0E-10'), 'DE'),\n",
       " ('AR', 10000.0, Decimal('0E-10'), 'DE')]"
      ]
     },
     "execution_count": 28,
     "metadata": {},
     "output_type": "execute_result"
    }
   ],
   "source": [
    "changes = session.query(Bees.state, Bees.colony_change, Bees.High_Estimate).order_by(Bees.High_Estimate).limit(5).all()"
   ]
  },
  {
   "cell_type": "code",
   "execution_count": null,
   "metadata": {},
   "outputs": [],
   "source": []
  },
  {
   "cell_type": "code",
   "execution_count": null,
   "metadata": {},
   "outputs": [],
   "source": [
    "col_yield = [result [0] for result in results [:10]]\n",
    "production = [result [1] for result in results [:10]]\n",
    "end = [result [2] for result in results [:10]]\n",
    "state  = [result [3] for result in results [:10]]"
   ]
  }
 ],
 "metadata": {
  "kernelspec": {
   "display_name": "Python 3",
   "language": "python",
   "name": "python3"
  },
  "language_info": {
   "codemirror_mode": {
    "name": "ipython",
    "version": 3
   },
   "file_extension": ".py",
   "mimetype": "text/x-python",
   "name": "python",
   "nbconvert_exporter": "python",
   "pygments_lexer": "ipython3",
   "version": "3.7.1"
  }
 },
 "nbformat": 4,
 "nbformat_minor": 2
}
